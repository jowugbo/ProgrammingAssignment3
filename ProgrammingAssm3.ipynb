{
 "cells": [
  {
   "cell_type": "code",
   "execution_count": null,
   "metadata": {},
   "outputs": [],
   "source": []
  },
  {
   "cell_type": "code",
   "execution_count": null,
   "metadata": {},
   "outputs": [],
   "source": []
  },
  {
   "cell_type": "code",
   "execution_count": 13,
   "metadata": {},
   "outputs": [],
   "source": [
    "#This is the juniper notebook for Programming assignment 3 - by John C. Onwugbonu"
   ]
  },
  {
   "attachments": {},
   "cell_type": "markdown",
   "metadata": {},
   "source": [
    "Question 1.\n",
    "a - Downloaded dataset into Local drive - done."
   ]
  },
  {
   "attachments": {},
   "cell_type": "markdown",
   "metadata": {},
   "source": [
    "b. How to run mlxtend - in terminal run pip install mlxtend \n",
    "c.See below"
   ]
  },
  {
   "cell_type": "code",
   "execution_count": 14,
   "metadata": {},
   "outputs": [
    {
     "data": {
      "text/html": [
       "<div>\n",
       "<style scoped>\n",
       "    .dataframe tbody tr th:only-of-type {\n",
       "        vertical-align: middle;\n",
       "    }\n",
       "\n",
       "    .dataframe tbody tr th {\n",
       "        vertical-align: top;\n",
       "    }\n",
       "\n",
       "    .dataframe thead th {\n",
       "        text-align: right;\n",
       "    }\n",
       "</style>\n",
       "<table border=\"1\" class=\"dataframe\">\n",
       "  <thead>\n",
       "    <tr style=\"text-align: right;\">\n",
       "      <th></th>\n",
       "      <th>antecedents</th>\n",
       "      <th>consequents</th>\n",
       "      <th>antecedent support</th>\n",
       "      <th>consequent support</th>\n",
       "      <th>support</th>\n",
       "      <th>confidence</th>\n",
       "      <th>lift</th>\n",
       "      <th>leverage</th>\n",
       "      <th>conviction</th>\n",
       "      <th>zhangs_metric</th>\n",
       "    </tr>\n",
       "  </thead>\n",
       "  <tbody>\n",
       "    <tr>\n",
       "      <th>0</th>\n",
       "      <td>(13)</td>\n",
       "      <td>(0)</td>\n",
       "      <td>0.023497</td>\n",
       "      <td>0.999875</td>\n",
       "      <td>0.023497</td>\n",
       "      <td>1.000000</td>\n",
       "      <td>1.000125</td>\n",
       "      <td>0.000003</td>\n",
       "      <td>inf</td>\n",
       "      <td>0.000128</td>\n",
       "    </tr>\n",
       "    <tr>\n",
       "      <th>1</th>\n",
       "      <td>(20)</td>\n",
       "      <td>(0)</td>\n",
       "      <td>0.033496</td>\n",
       "      <td>0.999875</td>\n",
       "      <td>0.033496</td>\n",
       "      <td>1.000000</td>\n",
       "      <td>1.000125</td>\n",
       "      <td>0.000004</td>\n",
       "      <td>inf</td>\n",
       "      <td>0.000129</td>\n",
       "    </tr>\n",
       "    <tr>\n",
       "      <th>2</th>\n",
       "      <td>(21)</td>\n",
       "      <td>(0)</td>\n",
       "      <td>0.021872</td>\n",
       "      <td>0.999875</td>\n",
       "      <td>0.021872</td>\n",
       "      <td>1.000000</td>\n",
       "      <td>1.000125</td>\n",
       "      <td>0.000003</td>\n",
       "      <td>inf</td>\n",
       "      <td>0.000128</td>\n",
       "    </tr>\n",
       "    <tr>\n",
       "      <th>3</th>\n",
       "      <td>(22)</td>\n",
       "      <td>(0)</td>\n",
       "      <td>0.018373</td>\n",
       "      <td>0.999875</td>\n",
       "      <td>0.018373</td>\n",
       "      <td>1.000000</td>\n",
       "      <td>1.000125</td>\n",
       "      <td>0.000002</td>\n",
       "      <td>inf</td>\n",
       "      <td>0.000127</td>\n",
       "    </tr>\n",
       "    <tr>\n",
       "      <th>4</th>\n",
       "      <td>(23)</td>\n",
       "      <td>(0)</td>\n",
       "      <td>0.045869</td>\n",
       "      <td>0.999875</td>\n",
       "      <td>0.045869</td>\n",
       "      <td>1.000000</td>\n",
       "      <td>1.000125</td>\n",
       "      <td>0.000006</td>\n",
       "      <td>inf</td>\n",
       "      <td>0.000131</td>\n",
       "    </tr>\n",
       "    <tr>\n",
       "      <th>...</th>\n",
       "      <td>...</td>\n",
       "      <td>...</td>\n",
       "      <td>...</td>\n",
       "      <td>...</td>\n",
       "      <td>...</td>\n",
       "      <td>...</td>\n",
       "      <td>...</td>\n",
       "      <td>...</td>\n",
       "      <td>...</td>\n",
       "      <td>...</td>\n",
       "    </tr>\n",
       "    <tr>\n",
       "      <th>76</th>\n",
       "      <td>(133, 175)</td>\n",
       "      <td>(0)</td>\n",
       "      <td>0.013498</td>\n",
       "      <td>0.999875</td>\n",
       "      <td>0.013498</td>\n",
       "      <td>1.000000</td>\n",
       "      <td>1.000125</td>\n",
       "      <td>0.000002</td>\n",
       "      <td>inf</td>\n",
       "      <td>0.000127</td>\n",
       "    </tr>\n",
       "    <tr>\n",
       "      <th>77</th>\n",
       "      <td>(133)</td>\n",
       "      <td>(0, 175)</td>\n",
       "      <td>0.112236</td>\n",
       "      <td>0.157480</td>\n",
       "      <td>0.013498</td>\n",
       "      <td>0.120267</td>\n",
       "      <td>0.763697</td>\n",
       "      <td>-0.004177</td>\n",
       "      <td>0.957700</td>\n",
       "      <td>-0.258456</td>\n",
       "    </tr>\n",
       "    <tr>\n",
       "      <th>78</th>\n",
       "      <td>(0, 176)</td>\n",
       "      <td>(175)</td>\n",
       "      <td>0.089239</td>\n",
       "      <td>0.157480</td>\n",
       "      <td>0.012373</td>\n",
       "      <td>0.138655</td>\n",
       "      <td>0.880462</td>\n",
       "      <td>-0.001680</td>\n",
       "      <td>0.978145</td>\n",
       "      <td>-0.129731</td>\n",
       "    </tr>\n",
       "    <tr>\n",
       "      <th>79</th>\n",
       "      <td>(176, 175)</td>\n",
       "      <td>(0)</td>\n",
       "      <td>0.012373</td>\n",
       "      <td>0.999875</td>\n",
       "      <td>0.012373</td>\n",
       "      <td>1.000000</td>\n",
       "      <td>1.000125</td>\n",
       "      <td>0.000002</td>\n",
       "      <td>inf</td>\n",
       "      <td>0.000127</td>\n",
       "    </tr>\n",
       "    <tr>\n",
       "      <th>80</th>\n",
       "      <td>(176)</td>\n",
       "      <td>(0, 175)</td>\n",
       "      <td>0.089239</td>\n",
       "      <td>0.157480</td>\n",
       "      <td>0.012373</td>\n",
       "      <td>0.138655</td>\n",
       "      <td>0.880462</td>\n",
       "      <td>-0.001680</td>\n",
       "      <td>0.978145</td>\n",
       "      <td>-0.129731</td>\n",
       "    </tr>\n",
       "  </tbody>\n",
       "</table>\n",
       "<p>81 rows × 10 columns</p>\n",
       "</div>"
      ],
      "text/plain": [
       "   antecedents consequents  antecedent support  consequent support   support  \\\n",
       "0         (13)         (0)            0.023497            0.999875  0.023497   \n",
       "1         (20)         (0)            0.033496            0.999875  0.033496   \n",
       "2         (21)         (0)            0.021872            0.999875  0.021872   \n",
       "3         (22)         (0)            0.018373            0.999875  0.018373   \n",
       "4         (23)         (0)            0.045869            0.999875  0.045869   \n",
       "..         ...         ...                 ...                 ...       ...   \n",
       "76  (133, 175)         (0)            0.013498            0.999875  0.013498   \n",
       "77       (133)    (0, 175)            0.112236            0.157480  0.013498   \n",
       "78    (0, 176)       (175)            0.089239            0.157480  0.012373   \n",
       "79  (176, 175)         (0)            0.012373            0.999875  0.012373   \n",
       "80       (176)    (0, 175)            0.089239            0.157480  0.012373   \n",
       "\n",
       "    confidence      lift  leverage  conviction  zhangs_metric  \n",
       "0     1.000000  1.000125  0.000003         inf       0.000128  \n",
       "1     1.000000  1.000125  0.000004         inf       0.000129  \n",
       "2     1.000000  1.000125  0.000003         inf       0.000128  \n",
       "3     1.000000  1.000125  0.000002         inf       0.000127  \n",
       "4     1.000000  1.000125  0.000006         inf       0.000131  \n",
       "..         ...       ...       ...         ...            ...  \n",
       "76    1.000000  1.000125  0.000002         inf       0.000127  \n",
       "77    0.120267  0.763697 -0.004177    0.957700      -0.258456  \n",
       "78    0.138655  0.880462 -0.001680    0.978145      -0.129731  \n",
       "79    1.000000  1.000125  0.000002         inf       0.000127  \n",
       "80    0.138655  0.880462 -0.001680    0.978145      -0.129731  \n",
       "\n",
       "[81 rows x 10 columns]"
      ]
     },
     "execution_count": 14,
     "metadata": {},
     "output_type": "execute_result"
    }
   ],
   "source": [
    "import pandas as pd\n",
    "from mlxtend.preprocessing import TransactionEncoder\n",
    "from mlxtend.frequent_patterns import  association_rules, apriori, fpmax, fpgrowth\n",
    "import csv\n",
    "\n",
    "#reading csv file and initializing data as a list\n",
    "file = open(r'C:\\Users\\jcmon\\Desktop\\Master-Classes\\DataMining1\\ProgrammingAssignment3\\Grocery_Items_30.csv', mode = 'r')\n",
    "itemSetData = csv.reader(file)\n",
    "itemSetData = list(itemSetData)\n",
    "te = TransactionEncoder()\n",
    "te_ary = te.fit(itemSetData).transform(itemSetData)\n",
    "df1 = pd.DataFrame(te_ary, columns=te.columns_)\n",
    "#using apiori to create our frequent itemset\n",
    "frequent_itemset = apriori(df1, min_support=0.01)\n",
    "frequent_itemset\n",
    "\n",
    "#creating our association rules \n",
    "association_rules(frequent_itemset, metric=\"confidence\", min_threshold=0.1)"
   ]
  },
  {
   "attachments": {},
   "cell_type": "markdown",
   "metadata": {},
   "source": [
    "d. Using minsup of 0.0001, 0.005, 0.01, and 0.05\n",
    "and a minconf of 0.05, 0.075,0.1\n",
    "for each pair of msv and mct, find the number of association rules extracted from dataset. Constuct a heat map using seaborn\n"
   ]
  },
  {
   "cell_type": "code",
   "execution_count": 15,
   "metadata": {},
   "outputs": [
    {
     "name": "stdout",
     "output_type": "stream",
     "text": [
      "2059\n",
      "1438\n",
      "1076\n",
      "300\n",
      "249\n",
      "187\n",
      "104\n",
      "98\n",
      "81\n",
      "22\n",
      "16\n",
      "14\n",
      "defaultdict(<class 'list'>, {'0.05': [2059, 300, 104, 22], '0.075': [1438, 249, 98, 16], '0.1': [1076, 187, 81, 14]})\n"
     ]
    },
    {
     "data": {
      "text/html": [
       "<div>\n",
       "<style scoped>\n",
       "    .dataframe tbody tr th:only-of-type {\n",
       "        vertical-align: middle;\n",
       "    }\n",
       "\n",
       "    .dataframe tbody tr th {\n",
       "        vertical-align: top;\n",
       "    }\n",
       "\n",
       "    .dataframe thead th {\n",
       "        text-align: right;\n",
       "    }\n",
       "</style>\n",
       "<table border=\"1\" class=\"dataframe\">\n",
       "  <thead>\n",
       "    <tr style=\"text-align: right;\">\n",
       "      <th></th>\n",
       "      <th>0.05</th>\n",
       "      <th>0.075</th>\n",
       "      <th>0.1</th>\n",
       "    </tr>\n",
       "  </thead>\n",
       "  <tbody>\n",
       "    <tr>\n",
       "      <th>0.001</th>\n",
       "      <td>2059</td>\n",
       "      <td>1438</td>\n",
       "      <td>1076</td>\n",
       "    </tr>\n",
       "    <tr>\n",
       "      <th>0.005</th>\n",
       "      <td>300</td>\n",
       "      <td>249</td>\n",
       "      <td>187</td>\n",
       "    </tr>\n",
       "    <tr>\n",
       "      <th>0.010</th>\n",
       "      <td>104</td>\n",
       "      <td>98</td>\n",
       "      <td>81</td>\n",
       "    </tr>\n",
       "    <tr>\n",
       "      <th>0.050</th>\n",
       "      <td>22</td>\n",
       "      <td>16</td>\n",
       "      <td>14</td>\n",
       "    </tr>\n",
       "  </tbody>\n",
       "</table>\n",
       "</div>"
      ],
      "text/plain": [
       "       0.05  0.075   0.1\n",
       "0.001  2059   1438  1076\n",
       "0.005   300    249   187\n",
       "0.010   104     98    81\n",
       "0.050    22     16    14"
      ]
     },
     "metadata": {},
     "output_type": "display_data"
    },
    {
     "data": {
      "text/html": [
       "<div>\n",
       "<style scoped>\n",
       "    .dataframe tbody tr th:only-of-type {\n",
       "        vertical-align: middle;\n",
       "    }\n",
       "\n",
       "    .dataframe tbody tr th {\n",
       "        vertical-align: top;\n",
       "    }\n",
       "\n",
       "    .dataframe thead th {\n",
       "        text-align: right;\n",
       "    }\n",
       "</style>\n",
       "<table border=\"1\" class=\"dataframe\">\n",
       "  <thead>\n",
       "    <tr style=\"text-align: right;\">\n",
       "      <th></th>\n",
       "      <th>0.001</th>\n",
       "      <th>0.005</th>\n",
       "      <th>0.010</th>\n",
       "      <th>0.050</th>\n",
       "    </tr>\n",
       "  </thead>\n",
       "  <tbody>\n",
       "    <tr>\n",
       "      <th>0.05</th>\n",
       "      <td>2059</td>\n",
       "      <td>300</td>\n",
       "      <td>104</td>\n",
       "      <td>22</td>\n",
       "    </tr>\n",
       "    <tr>\n",
       "      <th>0.075</th>\n",
       "      <td>1438</td>\n",
       "      <td>249</td>\n",
       "      <td>98</td>\n",
       "      <td>16</td>\n",
       "    </tr>\n",
       "    <tr>\n",
       "      <th>0.1</th>\n",
       "      <td>1076</td>\n",
       "      <td>187</td>\n",
       "      <td>81</td>\n",
       "      <td>14</td>\n",
       "    </tr>\n",
       "  </tbody>\n",
       "</table>\n",
       "</div>"
      ],
      "text/plain": [
       "       0.001  0.005  0.010  0.050\n",
       "0.05    2059    300    104     22\n",
       "0.075   1438    249     98     16\n",
       "0.1     1076    187     81     14"
      ]
     },
     "metadata": {},
     "output_type": "display_data"
    },
    {
     "data": {
      "text/plain": [
       "<AxesSubplot: >"
      ]
     },
     "execution_count": 15,
     "metadata": {},
     "output_type": "execute_result"
    },
    {
     "data": {
      "image/png": "[encoded data removed]",
      "text/plain": [
       "<Figure size 640x480 with 2 Axes>"
      ]
     },
     "metadata": {},
     "output_type": "display_data"
    }
   ],
   "source": [
    "\n",
    "#creating the rules with the minsup and minconf values\n",
    "from collections import defaultdict\n",
    "association_rules_list = []\n",
    "alldata = []\n",
    "data = defaultdict(list)\n",
    "msvs = [0.001, 0.005, 0.01, 0.05]\n",
    "mcts = [0.05, 0.075, 0.1]\n",
    "for msv in msvs:\n",
    "    frequent_itemset = apriori(df1, min_support=msv)\n",
    "    rule_count =[]\n",
    "    for mct in mcts:\n",
    "       x = association_rules(frequent_itemset, metric=\"confidence\", min_threshold=mct)\n",
    "       print(len(x))\n",
    "       y = (len(x))\n",
    "       rule_count.append(y)\n",
    "       data[str(mct)].append(y)\n",
    "       association_rules_list.append(x)\n",
    "    alldata.append(rule_count)\n",
    "\n",
    "print(data)\n",
    "#print(data)\n",
    "\n",
    "association_rules_list\n",
    "#creating our dataFrame for the heatmap\n",
    "\n",
    "df = pd.DataFrame(data, index=msvs)\n",
    "\n",
    "display(df)\n",
    "#swaping the axes to match what is described in the assignment\n",
    "df = df.swapaxes(\"index\", \"columns\")\n",
    "display(df)\n",
    "\n",
    "#creating the born heatmap now that I have my list of association rules\n",
    "import seaborn as sbn\n",
    "from matplotlib import pyplot as plt\n",
    "import numpy as np\n",
    "\n",
    "sbn.heatmap(df, cmap=\"Blues\", annot=True, fmt=\".0f\")\n"
   ]
  },
  {
   "attachments": {},
   "cell_type": "markdown",
   "metadata": {},
   "source": [
    "Showing rules that have the highest confidence "
   ]
  },
  {
   "cell_type": "code",
   "execution_count": 16,
   "metadata": {},
   "outputs": [
    {
     "data": {
      "text/html": [
       "<div>\n",
       "<style scoped>\n",
       "    .dataframe tbody tr th:only-of-type {\n",
       "        vertical-align: middle;\n",
       "    }\n",
       "\n",
       "    .dataframe tbody tr th {\n",
       "        vertical-align: top;\n",
       "    }\n",
       "\n",
       "    .dataframe thead th {\n",
       "        text-align: right;\n",
       "    }\n",
       "</style>\n",
       "<table border=\"1\" class=\"dataframe\">\n",
       "  <thead>\n",
       "    <tr style=\"text-align: right;\">\n",
       "      <th></th>\n",
       "      <th>antecedents</th>\n",
       "      <th>consequents</th>\n",
       "      <th>confidence</th>\n",
       "    </tr>\n",
       "  </thead>\n",
       "  <tbody>\n",
       "    <tr>\n",
       "      <th>0</th>\n",
       "      <td>(114)</td>\n",
       "      <td>(0)</td>\n",
       "      <td>1.0</td>\n",
       "    </tr>\n",
       "    <tr>\n",
       "      <th>1</th>\n",
       "      <td>(114, 175)</td>\n",
       "      <td>(0)</td>\n",
       "      <td>1.0</td>\n",
       "    </tr>\n",
       "    <tr>\n",
       "      <th>2</th>\n",
       "      <td>(31)</td>\n",
       "      <td>(0)</td>\n",
       "      <td>1.0</td>\n",
       "    </tr>\n",
       "    <tr>\n",
       "      <th>3</th>\n",
       "      <td>(176)</td>\n",
       "      <td>(0)</td>\n",
       "      <td>1.0</td>\n",
       "    </tr>\n",
       "    <tr>\n",
       "      <th>4</th>\n",
       "      <td>(176, 133)</td>\n",
       "      <td>(0)</td>\n",
       "      <td>1.0</td>\n",
       "    </tr>\n",
       "    <tr>\n",
       "      <th>...</th>\n",
       "      <td>...</td>\n",
       "      <td>...</td>\n",
       "      <td>...</td>\n",
       "    </tr>\n",
       "    <tr>\n",
       "      <th>119</th>\n",
       "      <td>(21)</td>\n",
       "      <td>(0)</td>\n",
       "      <td>1.0</td>\n",
       "    </tr>\n",
       "    <tr>\n",
       "      <th>120</th>\n",
       "      <td>(139)</td>\n",
       "      <td>(0)</td>\n",
       "      <td>1.0</td>\n",
       "    </tr>\n",
       "    <tr>\n",
       "      <th>121</th>\n",
       "      <td>(65)</td>\n",
       "      <td>(0)</td>\n",
       "      <td>1.0</td>\n",
       "    </tr>\n",
       "    <tr>\n",
       "      <th>122</th>\n",
       "      <td>(57)</td>\n",
       "      <td>(0)</td>\n",
       "      <td>1.0</td>\n",
       "    </tr>\n",
       "    <tr>\n",
       "      <th>123</th>\n",
       "      <td>(160)</td>\n",
       "      <td>(0)</td>\n",
       "      <td>1.0</td>\n",
       "    </tr>\n",
       "  </tbody>\n",
       "</table>\n",
       "<p>124 rows × 3 columns</p>\n",
       "</div>"
      ],
      "text/plain": [
       "    antecedents consequents  confidence\n",
       "0         (114)         (0)         1.0\n",
       "1    (114, 175)         (0)         1.0\n",
       "2          (31)         (0)         1.0\n",
       "3         (176)         (0)         1.0\n",
       "4    (176, 133)         (0)         1.0\n",
       "..          ...         ...         ...\n",
       "119        (21)         (0)         1.0\n",
       "120       (139)         (0)         1.0\n",
       "121        (65)         (0)         1.0\n",
       "122        (57)         (0)         1.0\n",
       "123       (160)         (0)         1.0\n",
       "\n",
       "[124 rows x 3 columns]"
      ]
     },
     "execution_count": 16,
     "metadata": {},
     "output_type": "execute_result"
    }
   ],
   "source": [
    "frequent_itemset1 = fpgrowth(df1, min_support=0.005)\n",
    "x1 = association_rules(frequent_itemset1, metric=\"confidence\", min_threshold=.5)\n",
    "x1 = x1[[\"antecedents\", \"consequents\", \"confidence\"]]\n",
    "x1"
   ]
  },
  {
   "attachments": {},
   "cell_type": "markdown",
   "metadata": {},
   "source": [
    "The confidence value that is the highest in the rules is 1.0"
   ]
  },
  {
   "attachments": {},
   "cell_type": "markdown",
   "metadata": {},
   "source": [
    "2. Image Classification using CNN"
   ]
  },
  {
   "cell_type": "code",
   "execution_count": 17,
   "metadata": {},
   "outputs": [],
   "source": [
    "import os\n",
    "import pathlib\n",
    "WDS = pd.read_csv(\n",
    "    \"/Users/jcmon/Desktop/Master-Classes/DataMining1/Coding-Assignment1/DataMiningRepo1/Weed-4class-30/Weed-4class-30-labels.csv\")\n",
    "nWDS = pd.read_csv(\n",
    "    \"/Users/jcmon/Desktop/Master-Classes/DataMining1/Coding-Assignment1/DataMiningRepo1/Negatives/Negatives.csv\")\n",
    "\n",
    "rVines = WDS[WDS['Species'] == 'Rubber vine']\n",
    "cApple = WDS[WDS['Species'] == 'Chinee apple']\n",
    "sWeed = WDS[WDS['Species'] == 'Siam weed']\n",
    "\n",
    "rVineFiles = [str(pathlib.Path.cwd()/\"Weed-4class-30\"/ fn[0])\n",
    "              for fn in rVines.values]\n",
    "cAppleFiles = [str(pathlib.Path.cwd()/\"Weed-4class-30\"/ fn[0])\n",
    "              for fn in cApple.values]\n",
    "sWeedFiles = [str(pathlib.Path.cwd()/\"Weed-4class-30\"/ fn[0])\n",
    "              for fn in sWeed.values]"
   ]
  },
  {
   "cell_type": "code",
   "execution_count": 18,
   "metadata": {},
   "outputs": [
    {
     "name": "stdout",
     "output_type": "stream",
     "text": [
      "rVineClass\n"
     ]
    }
   ],
   "source": [
    "import cv2 as cv\n",
    "classes = ['rVineClass', 'cAppleClass',\"sWeedClass\"]\n",
    "print(classes[0])\n",
    "CorrectClass = []\n",
    "dataset = []\n",
    "ourInt = 0\n",
    "for i in rVineFiles:\n",
    "    image = cv.imread(i)\n",
    "    dataset.append(image)\n",
    "    CorrectClass.append(ourInt)\n",
    "ourInt = ourInt +1"
   ]
  },
  {
   "cell_type": "code",
   "execution_count": 19,
   "metadata": {},
   "outputs": [
    {
     "data": {
      "text/plain": [
       "(256, 256, 3)"
      ]
     },
     "execution_count": 19,
     "metadata": {},
     "output_type": "execute_result"
    }
   ],
   "source": [
    "image = cv.imread(rVineFiles[0])\n",
    "image.shape"
   ]
  },
  {
   "cell_type": "code",
   "execution_count": 20,
   "metadata": {},
   "outputs": [],
   "source": [
    "for i in cAppleFiles:\n",
    "    image = cv.imread(i)\n",
    "    dataset.append(image)\n",
    "    CorrectClass.append(ourInt)\n",
    "ourInt = ourInt +1"
   ]
  },
  {
   "cell_type": "code",
   "execution_count": 21,
   "metadata": {},
   "outputs": [],
   "source": [
    "for i in sWeedFiles:\n",
    "    image = cv.imread(i)\n",
    "    dataset.append(image)\n",
    "    CorrectClass.append(ourInt)"
   ]
  },
  {
   "cell_type": "code",
   "execution_count": 22,
   "metadata": {},
   "outputs": [
    {
     "name": "stdout",
     "output_type": "stream",
     "text": [
      "x_train shape: (2566, 256, 256, 3, 1)\n",
      "2566 train samples\n",
      "642 test samples\n"
     ]
    }
   ],
   "source": [
    "from tensorflow import keras\n",
    "from tensorflow.keras import layers\n",
    "from sklearn.model_selection import train_test_split\n",
    "\n",
    "num_classes =4\n",
    "\n",
    "#Model/Data Params\n",
    "from sklearn.model_selection import train_test_split\n",
    "X_train, X_test, y_train, y_test = train_test_split(dataset, CorrectClass, test_size=.2)\n",
    "X_train= np.array(X_train)\n",
    "X_test= np.array(X_test)\n",
    "X_train = X_train.astype(\"float32\")/255\n",
    "X_test = X_test.astype(\"float32\")/255\n",
    "X_train = np.expand_dims(X_train, -1)\n",
    "X_test = np.expand_dims(X_test, -1)\n",
    "print(\"x_train shape:\", X_train.shape)\n",
    "print(X_train.shape[0], \"train samples\")\n",
    "print(X_test.shape[0], \"test samples\")\n",
    "\n",
    "\n",
    "y_train = keras.utils.to_categorical(y_train, num_classes)\n",
    "y_test = keras.utils.to_categorical(y_test, num_classes)"
   ]
  },
  {
   "cell_type": "code",
   "execution_count": 23,
   "metadata": {},
   "outputs": [
    {
     "name": "stdout",
     "output_type": "stream",
     "text": [
      "Model: \"sequential\"\n",
      "_________________________________________________________________\n",
      " Layer (type)                Output Shape              Param #   \n",
      "=================================================================\n",
      " conv2d (Conv2D)             (None, 254, 254, 32)      896       \n",
      "                                                                 \n",
      " max_pooling2d (MaxPooling2D  (None, 127, 127, 32)     0         \n",
      " )                                                               \n",
      "                                                                 \n",
      " flatten (Flatten)           (None, 516128)            0         \n",
      "                                                                 \n",
      " dropout (Dropout)           (None, 516128)            0         \n",
      "                                                                 \n",
      " dense (Dense)               (None, 4)                 2064516   \n",
      "                                                                 \n",
      "=================================================================\n",
      "Total params: 2,065,412\n",
      "Trainable params: 2,065,412\n",
      "Non-trainable params: 0\n",
      "_________________________________________________________________\n"
     ]
    }
   ],
   "source": [
    "model = keras.Sequential(\n",
    "    [\n",
    "        keras.Input(shape=(256,256,3)),\n",
    "        layers.Conv2D(32, kernel_size=(3, 3), activation=\"relu\"),\n",
    "        layers.MaxPooling2D(pool_size=(2, 2)),\n",
    "        layers.Flatten(),\n",
    "        layers.Dropout(0.5),\n",
    "        layers.Dense(num_classes, activation=\"softmax\"),\n",
    "    ]\n",
    ")\n",
    "model.summary()"
   ]
  },
  {
   "cell_type": "code",
   "execution_count": 29,
   "metadata": {},
   "outputs": [
    {
     "name": "stdout",
     "output_type": "stream",
     "text": [
      "Epoch 1/5\n",
      "17/17 [==============================] - 56s 3s/step - loss: 0.7984 - accuracy: 0.7018 - val_loss: 0.8268 - val_accuracy: 0.6751\n",
      "Epoch 2/5\n",
      "17/17 [==============================] - 65s 4s/step - loss: 0.4872 - accuracy: 0.9162 - val_loss: 0.7221 - val_accuracy: 0.6654\n",
      "Epoch 3/5\n",
      "17/17 [==============================] - 66s 4s/step - loss: 0.2946 - accuracy: 0.9128 - val_loss: 1.3151 - val_accuracy: 0.5058\n",
      "Epoch 4/5\n",
      "17/17 [==============================] - 65s 4s/step - loss: 0.2892 - accuracy: 0.9225 - val_loss: 0.7535 - val_accuracy: 0.6829\n",
      "Epoch 5/5\n",
      "17/17 [==============================] - 65s 4s/step - loss: 0.1669 - accuracy: 0.9664 - val_loss: 0.9061 - val_accuracy: 0.6420\n"
     ]
    },
    {
     "data": {
      "text/plain": [
       "<keras.callbacks.History at 0x258eac93610>"
      ]
     },
     "execution_count": 29,
     "metadata": {},
     "output_type": "execute_result"
    }
   ],
   "source": [
    "batch_size = 128\n",
    "epochs = 5\n",
    "\n",
    "model.compile(loss=\"categorical_crossentropy\", optimizer=\"adam\", metrics=[\"accuracy\"])\n",
    "model.fit(X_train, y_train, batch_size=batch_size, epochs=epochs, validation_split=0.2)"
   ]
  },
  {
   "cell_type": "code",
   "execution_count": null,
   "metadata": {},
   "outputs": [],
   "source": [
    "numOfEpoch =  [1,2,3,4,5]\n",
    "acc =  [0.7018 , 0.9162, 0.9128, 0.9225, 0.9664]\n",
    "val_acc = [0.6751, 0.6654, 0.5058, 0.6829, 0.6420] \n"
   ]
  },
  {
   "cell_type": "code",
   "execution_count": 30,
   "metadata": {},
   "outputs": [
    {
     "data": {
      "image/png": "[encoded data removed]",
      "text/plain": [
       "<Figure size 640x480 with 1 Axes>"
      ]
     },
     "metadata": {},
     "output_type": "display_data"
    }
   ],
   "source": [
    "import matplotlib.pyplot as plt\n",
    "\n",
    "numOfEpoch = [1, 2, 3, 4, 5]\n",
    "acc = [0.7018, 0.9162, 0.9128, 0.9225, 0.9664]\n",
    "val_acc = [0.6751, 0.6654, 0.5058, 0.6829, 0.6420]\n",
    "\n",
    "plt.plot(numOfEpoch, acc, label='Training Accuracy')\n",
    "plt.plot(numOfEpoch, val_acc, label='Validation Accuracy')\n",
    "plt.xlabel('Epochs')\n",
    "plt.ylabel('Accuracy')\n",
    "plt.title('Training and Validation Accuracy vs Epochs')\n",
    "plt.legend()\n",
    "plt.show()"
   ]
  },
  {
   "cell_type": "code",
   "execution_count": 25,
   "metadata": {},
   "outputs": [
    {
     "name": "stdout",
     "output_type": "stream",
     "text": [
      "Model: \"sequential_1\"\n",
      "_________________________________________________________________\n",
      " Layer (type)                Output Shape              Param #   \n",
      "=================================================================\n",
      " conv2d_1 (Conv2D)           (None, 252, 252, 32)      2432      \n",
      "                                                                 \n",
      " max_pooling2d_1 (MaxPooling  (None, 126, 126, 32)     0         \n",
      " 2D)                                                             \n",
      "                                                                 \n",
      " flatten_1 (Flatten)         (None, 508032)            0         \n",
      "                                                                 \n",
      " dropout_1 (Dropout)         (None, 508032)            0         \n",
      "                                                                 \n",
      " dense_1 (Dense)             (None, 4)                 2032132   \n",
      "                                                                 \n",
      "=================================================================\n",
      "Total params: 2,034,564\n",
      "Trainable params: 2,034,564\n",
      "Non-trainable params: 0\n",
      "_________________________________________________________________\n"
     ]
    }
   ],
   "source": [
    "model1 = keras.Sequential(\n",
    "    [\n",
    "        keras.Input(shape=(256,256,3)),\n",
    "        layers.Conv2D(32, kernel_size=(5, 5), activation=\"relu\"),\n",
    "        layers.MaxPooling2D(pool_size=(2, 2)),\n",
    "        layers.Flatten(),\n",
    "        layers.Dropout(0.5),\n",
    "        layers.Dense(num_classes, activation=\"softmax\"),\n",
    "    ]\n",
    ")\n",
    "model1.summary()"
   ]
  },
  {
   "cell_type": "code",
   "execution_count": 31,
   "metadata": {},
   "outputs": [
    {
     "name": "stdout",
     "output_type": "stream",
     "text": [
      "Epoch 1/5\n",
      "17/17 [==============================] - 51s 3s/step - loss: 0.8524 - accuracy: 0.8056 - val_loss: 0.7838 - val_accuracy: 0.6362\n",
      "Epoch 2/5\n",
      "17/17 [==============================] - 51s 3s/step - loss: 0.3211 - accuracy: 0.9537 - val_loss: 0.7343 - val_accuracy: 0.6770\n",
      "Epoch 3/5\n",
      "17/17 [==============================] - 56s 3s/step - loss: 0.1460 - accuracy: 0.9771 - val_loss: 0.7481 - val_accuracy: 0.6770\n",
      "Epoch 4/5\n",
      "17/17 [==============================] - 54s 3s/step - loss: 0.0875 - accuracy: 0.9893 - val_loss: 0.7870 - val_accuracy: 0.6615\n",
      "Epoch 5/5\n",
      "17/17 [==============================] - 54s 3s/step - loss: 0.0677 - accuracy: 0.9951 - val_loss: 0.7547 - val_accuracy: 0.7023\n"
     ]
    },
    {
     "data": {
      "text/plain": [
       "<keras.callbacks.History at 0x258ff807cd0>"
      ]
     },
     "execution_count": 31,
     "metadata": {},
     "output_type": "execute_result"
    }
   ],
   "source": [
    "batch_size = 128\n",
    "epochs = 5\n",
    "\n",
    "model.compile(loss=\"categorical_crossentropy\", optimizer=\"adam\", metrics=[\"accuracy\"])\n",
    "model.fit(X_train, y_train, batch_size=batch_size, epochs=epochs, validation_split=0.2)"
   ]
  },
  {
   "cell_type": "code",
   "execution_count": 32,
   "metadata": {},
   "outputs": [
    {
     "data": {
      "image/png": "[encoded data removed]",
      "text/plain": [
       "<Figure size 640x480 with 1 Axes>"
      ]
     },
     "metadata": {},
     "output_type": "display_data"
    }
   ],
   "source": [
    "numOfEpoch = [1, 2, 3, 4, 5]\n",
    "acc = [0.8056, 0.9537, 0.9771, 0.9893, 0.9951]\n",
    "val_acc = [0.6362, 0.6770, 0.6770, 0.6615, 0.7023]\n",
    "\n",
    "plt.plot(numOfEpoch, acc, label='Training Accuracy')\n",
    "plt.plot(numOfEpoch, val_acc, label='Validation Accuracy')\n",
    "plt.xlabel('Epochs')\n",
    "plt.ylabel('Accuracy')\n",
    "plt.title('Training and Validation Accuracy vs Epochs')\n",
    "plt.legend()\n",
    "plt.show()"
   ]
  },
  {
   "cell_type": "code",
   "execution_count": 27,
   "metadata": {},
   "outputs": [
    {
     "name": "stdout",
     "output_type": "stream",
     "text": [
      "Model: \"sequential_2\"\n",
      "_________________________________________________________________\n",
      " Layer (type)                Output Shape              Param #   \n",
      "=================================================================\n",
      " conv2d_2 (Conv2D)           (None, 250, 250, 32)      4736      \n",
      "                                                                 \n",
      " max_pooling2d_2 (MaxPooling  (None, 125, 125, 32)     0         \n",
      " 2D)                                                             \n",
      "                                                                 \n",
      " flatten_2 (Flatten)         (None, 500000)            0         \n",
      "                                                                 \n",
      " dropout_2 (Dropout)         (None, 500000)            0         \n",
      "                                                                 \n",
      " dense_2 (Dense)             (None, 4)                 2000004   \n",
      "                                                                 \n",
      "=================================================================\n",
      "Total params: 2,004,740\n",
      "Trainable params: 2,004,740\n",
      "Non-trainable params: 0\n",
      "_________________________________________________________________\n"
     ]
    }
   ],
   "source": [
    "model = keras.Sequential(\n",
    "    [\n",
    "        keras.Input(shape=(256,256,3)),\n",
    "        layers.Conv2D(32, kernel_size=(7, 7), activation=\"relu\"),\n",
    "        layers.MaxPooling2D(pool_size=(2, 2)),\n",
    "        layers.Flatten(),\n",
    "        layers.Dropout(0.5),\n",
    "        layers.Dense(num_classes, activation=\"softmax\"),\n",
    "    ]\n",
    ")\n",
    "model.summary()"
   ]
  },
  {
   "cell_type": "code",
   "execution_count": 33,
   "metadata": {},
   "outputs": [
    {
     "name": "stdout",
     "output_type": "stream",
     "text": [
      "Epoch 1/5\n",
      "17/17 [==============================] - 65s 4s/step - loss: 0.5719 - accuracy: 0.8728 - val_loss: 0.8133 - val_accuracy: 0.6265\n",
      "Epoch 2/5\n",
      "17/17 [==============================] - 73s 4s/step - loss: 0.1440 - accuracy: 0.9888 - val_loss: 0.7613 - val_accuracy: 0.7004\n",
      "Epoch 3/5\n",
      "17/17 [==============================] - 73s 4s/step - loss: 0.0503 - accuracy: 0.9981 - val_loss: 1.0285 - val_accuracy: 0.6304\n",
      "Epoch 4/5\n",
      "17/17 [==============================] - 72s 4s/step - loss: 0.0453 - accuracy: 0.9961 - val_loss: 0.8360 - val_accuracy: 0.6634\n",
      "Epoch 5/5\n",
      "17/17 [==============================] - 84s 5s/step - loss: 0.0230 - accuracy: 1.0000 - val_loss: 0.8816 - val_accuracy: 0.6946\n"
     ]
    },
    {
     "data": {
      "text/plain": [
       "<keras.callbacks.History at 0x25912c81650>"
      ]
     },
     "execution_count": 33,
     "metadata": {},
     "output_type": "execute_result"
    }
   ],
   "source": [
    "batch_size = 128\n",
    "epochs = 5\n",
    "\n",
    "model.compile(loss=\"categorical_crossentropy\", optimizer=\"adam\", metrics=[\"accuracy\"])\n",
    "model.fit(X_train, y_train, batch_size=batch_size, epochs=epochs, validation_split=0.2)"
   ]
  },
  {
   "cell_type": "code",
   "execution_count": 34,
   "metadata": {},
   "outputs": [
    {
     "data": {
      "image/png": "[encoded data removed]",
      "text/plain": [
       "<Figure size 640x480 with 1 Axes>"
      ]
     },
     "metadata": {},
     "output_type": "display_data"
    }
   ],
   "source": [
    "numOfEpoch = [1, 2, 3, 4, 5]\n",
    "acc = [0.8728, 0.9888, 0.9981, 0.9961, 1]\n",
    "val_acc = [0.6265, 0.7004, 0.6304, 0.6634, 0.6946]\n",
    "\n",
    "plt.plot(numOfEpoch, acc, label='Training Accuracy')\n",
    "plt.plot(numOfEpoch, val_acc, label='Validation Accuracy')\n",
    "plt.xlabel('Epochs')\n",
    "plt.ylabel('Accuracy')\n",
    "plt.title('Training and Validation Accuracy vs Epochs')\n",
    "plt.legend()\n",
    "plt.show()"
   ]
  }
 ],
 "metadata": {
  "kernelspec": {
   "display_name": "base",
   "language": "python",
   "name": "python3"
  },
  "language_info": {
   "codemirror_mode": {
    "name": "ipython",
    "version": 3
   },
   "file_extension": ".py",
   "mimetype": "text/x-python",
   "name": "python",
   "nbconvert_exporter": "python",
   "pygments_lexer": "ipython3",
   "version": "3.11.1"
  },
  "orig_nbformat": 4,
  "vscode": {
   "interpreter": {
    "hash": "3eae9493ee4357e4ad7e115ce573b54d110f58c90dbd39947c4c5c3cc995ec5c"
   }
  }
 },
 "nbformat": 4,
 "nbformat_minor": 2
}
