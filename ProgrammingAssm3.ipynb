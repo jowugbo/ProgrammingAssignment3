{
 "cells": [
  {
   "cell_type": "code",
   "execution_count": null,
   "metadata": {},
   "outputs": [],
   "source": [
    "#This is the juniper notebook for Programming assignment 3 - by John C. Onwugbonu"
   ]
  },
  {
   "attachments": {},
   "cell_type": "markdown",
   "metadata": {},
   "source": [
    "Question 1.\n",
    "a - Downloaded dataset into Local drive - done."
   ]
  },
  {
   "attachments": {},
   "cell_type": "markdown",
   "metadata": {},
   "source": [
    "b. How to run mlxtend - in terminal run pip install mlxtend \n",
    "c.See below"
   ]
  },
  {
   "cell_type": "code",
   "execution_count": null,
   "metadata": {},
   "outputs": [],
   "source": [
    "import pandas as pd\n",
    "from mlxtend.preprocessing import TransactionEncoder\n",
    "from mlxtend.frequent_patterns import  association_rules, apriori, fpmax, fpgrowth\n",
    "import csv\n",
    "\n",
    "#reading csv file and initializing data as a list\n",
    "file = open(r'C:\\Users\\jcmon\\Desktop\\Master-Classes\\DataMining1\\ProgrammingAssignment3\\Grocery_Items_30.csv', mode = 'r')\n",
    "itemSetData = csv.reader(file)\n",
    "itemSetData = list(itemSetData)\n",
    "te = TransactionEncoder()\n",
    "te_ary = te.fit(itemSetData).transform(itemSetData)\n",
    "df1 = pd.DataFrame(te_ary, columns=te.columns_)\n",
    "#using apiori to create our frequent itemset\n",
    "frequent_itemset = apriori(df1, min_support=0.01)\n",
    "frequent_itemset\n",
    "\n",
    "#creating our association rules \n",
    "association_rules(frequent_itemset, metric=\"confidence\", min_threshold=0.1)"
   ]
  },
  {
   "attachments": {},
   "cell_type": "markdown",
   "metadata": {},
   "source": [
    "d. Using minsup of 0.0001, 0.005, 0.01, and 0.05\n",
    "and a minconf of 0.05, 0.075,0.1\n",
    "for each pair of msv and mct, find the number of association rules extracted from dataset. Constuct a heat map using seaborn\n"
   ]
  },
  {
   "cell_type": "code",
   "execution_count": null,
   "metadata": {},
   "outputs": [],
   "source": [
    "\n",
    "#creating the rules with the minsup and minconf values\n",
    "from collections import defaultdict\n",
    "association_rules_list = []\n",
    "alldata = []\n",
    "data = defaultdict(list)\n",
    "msvs = [0.001, 0.005, 0.01, 0.05]\n",
    "mcts = [0.05, 0.075, 0.1]\n",
    "for msv in msvs:\n",
    "    frequent_itemset = apriori(df1, min_support=msv)\n",
    "    rule_count =[]\n",
    "    for mct in mcts:\n",
    "       x = association_rules(frequent_itemset, metric=\"confidence\", min_threshold=mct)\n",
    "       print(len(x))\n",
    "       y = (len(x))\n",
    "       rule_count.append(y)\n",
    "       data[str(mct)].append(y)\n",
    "       association_rules_list.append(x)\n",
    "    alldata.append(rule_count)\n",
    "\n",
    "print(data)\n",
    "#print(data)\n",
    "\n",
    "association_rules_list\n",
    "#creating our dataFrame for the heatmap\n",
    "\n",
    "df = pd.DataFrame(data, index=msvs)\n",
    "\n",
    "display(df)\n",
    "#swaping the axes to match what is described in the assignment\n",
    "df = df.swapaxes(\"index\", \"columns\")\n",
    "display(df)\n",
    "\n",
    "#creating the born heatmap now that I have my list of association rules\n",
    "import seaborn as sbn\n",
    "from matplotlib import pyplot as plt\n",
    "import numpy as np\n",
    "\n",
    "sbn.heatmap(df, cmap=\"Blues\", annot=True, fmt=\".0f\")\n"
   ]
  },
  {
   "attachments": {},
   "cell_type": "markdown",
   "metadata": {},
   "source": [
    "Showing rules that have the highest confidence "
   ]
  },
  {
   "cell_type": "code",
   "execution_count": null,
   "metadata": {},
   "outputs": [],
   "source": [
    "frequent_itemset1 = fpgrowth(df1, min_support=0.005)\n",
    "x1 = association_rules(frequent_itemset1, metric=\"confidence\", min_threshold=.5)\n",
    "x1 = x1[[\"antecedents\", \"consequents\", \"confidence\"]]\n",
    "x1"
   ]
  },
  {
   "attachments": {},
   "cell_type": "markdown",
   "metadata": {},
   "source": [
    "The confidence value that is the highest in the rules is 1.0"
   ]
  }
 ],
 "metadata": {
  "kernelspec": {
   "display_name": "base",
   "language": "python",
   "name": "python3"
  },
  "language_info": {
   "codemirror_mode": {
    "name": "ipython",
    "version": 3
   },
   "file_extension": ".py",
   "mimetype": "text/x-python",
   "name": "python",
   "nbconvert_exporter": "python",
   "pygments_lexer": "ipython3",
   "version": "3.11.1"
  },
  "orig_nbformat": 4,
  "vscode": {
   "interpreter": {
    "hash": "3eae9493ee4357e4ad7e115ce573b54d110f58c90dbd39947c4c5c3cc995ec5c"
   }
  }
 },
 "nbformat": 4,
 "nbformat_minor": 2
}
