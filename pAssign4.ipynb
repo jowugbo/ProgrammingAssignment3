{
 "cells": [
  {
   "cell_type": "code",
   "execution_count": 3,
   "metadata": {},
   "outputs": [],
   "source": [
    "import cv2 as cv\n",
    "import matplotlib.pyplot as plt\n",
    "import numpy as np\n",
    "import math as m\n",
    "from sklearn.decomposition import PCA\n",
    "from sklearn import datasets\n",
    "import pandas as pd"
   ]
  },
  {
   "cell_type": "code",
   "execution_count": 5,
   "metadata": {},
   "outputs": [],
   "source": [
    "import os\n",
    "import pathlib\n",
    "WDS = pd.read_csv(\n",
    "    \"/Users/jcmon/Desktop/Master-Classes/DataMining1/Coding-Assignment1/DataMiningRepo1/Weed-4class-30/Weed-4class-30-labels.csv\")\n",
    "nWDS = pd.read_csv(\n",
    "    \"/Users/jcmon/Desktop/Master-Classes/DataMining1/Coding-Assignment1/DataMiningRepo1/Negatives/Negatives.csv\")\n",
    "\n",
    "rVines = WDS[WDS['Species'] == 'Rubber vine']\n",
    "cApple = WDS[WDS['Species'] == 'Chinee apple']\n",
    "sWeed = WDS[WDS['Species'] == 'Siam weed']\n",
    "pWeed = WDS[WDS['Species'] == 'Parkinsonia']\n",
    "\n",
    "\n",
    "rVineFiles = [str(pathlib.Path.cwd()/\"Weed-4class-30\"/ fn[0])\n",
    "              for fn in rVines.values]\n",
    "cAppleFiles = [str(pathlib.Path.cwd()/\"Weed-4class-30\"/ fn[0])\n",
    "              for fn in cApple.values]\n",
    "sWeedFiles = [str(pathlib.Path.cwd()/\"Weed-4class-30\"/ fn[0])\n",
    "              for fn in sWeed.values]\n",
    "pWeedFiles = [str(pathlib.Path.cwd()/\"Weed-4class-30\"/ fn[0])\n",
    "              for fn in pWeed.values]\n"
   ]
  }
 ],
 "metadata": {
  "kernelspec": {
   "display_name": "Python 3",
   "language": "python",
   "name": "python3"
  },
  "language_info": {
   "codemirror_mode": {
    "name": "ipython",
    "version": 3
   },
   "file_extension": ".py",
   "mimetype": "text/x-python",
   "name": "python",
   "nbconvert_exporter": "python",
   "pygments_lexer": "ipython3",
   "version": "3.11.1"
  },
  "orig_nbformat": 4
 },
 "nbformat": 4,
 "nbformat_minor": 2
}
